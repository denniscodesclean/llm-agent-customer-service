{
  "nbformat": 4,
  "nbformat_minor": 0,
  "metadata": {
    "colab": {
      "provenance": []
    },
    "kernelspec": {
      "name": "python3",
      "display_name": "Python 3"
    },
    "language_info": {
      "name": "python"
    }
  },
  "cells": [
    {
      "cell_type": "code",
      "source": [
        "!pip install boto3 -q"
      ],
      "metadata": {
        "colab": {
          "base_uri": "https://localhost:8080/"
        },
        "id": "yZq5IX_BJAM_",
        "outputId": "09d392ad-5db5-4e09-bcd1-e6102a446180"
      },
      "execution_count": 2,
      "outputs": [
        {
          "output_type": "stream",
          "name": "stdout",
          "text": [
            "\u001b[2K   \u001b[90m━━━━━━━━━━━━━━━━━━━━━━━━━━━━━━━━━━━━━━━━\u001b[0m \u001b[32m139.6/139.6 kB\u001b[0m \u001b[31m4.5 MB/s\u001b[0m eta \u001b[36m0:00:00\u001b[0m\n",
            "\u001b[2K   \u001b[90m━━━━━━━━━━━━━━━━━━━━━━━━━━━━━━━━━━━━━━━━\u001b[0m \u001b[32m13.5/13.5 MB\u001b[0m \u001b[31m75.8 MB/s\u001b[0m eta \u001b[36m0:00:00\u001b[0m\n",
            "\u001b[2K   \u001b[90m━━━━━━━━━━━━━━━━━━━━━━━━━━━━━━━━━━━━━━━━\u001b[0m \u001b[32m84.4/84.4 kB\u001b[0m \u001b[31m8.4 MB/s\u001b[0m eta \u001b[36m0:00:00\u001b[0m\n",
            "\u001b[?25h"
          ]
        }
      ]
    },
    {
      "cell_type": "code",
      "execution_count": 20,
      "metadata": {
        "id": "yan_WVbSIksa"
      },
      "outputs": [],
      "source": [
        "import boto3\n",
        "import json\n",
        "import uuid\n",
        "from google.colab import userdata\n",
        "from datetime import datetime\n",
        "aws_access_key_id = userdata.get('aws_access_key_id')\n",
        "aws_secret_key = userdata.get('aws_secret_key')"
      ]
    },
    {
      "cell_type": "code",
      "source": [
        "# Initialize Bedrock client\n",
        "bedrock_agent_client = boto3.client(\n",
        "    \"bedrock-agent\",\n",
        "    region_name=\"us-east-2\",\n",
        "    aws_access_key_id=aws_access_key_id,\n",
        "    aws_secret_access_key=aws_secret_key,\n",
        "    )\n",
        "\n",
        "# Define the agent name and description\n",
        "agent_name = \"CustomerSupportAgent\"\n",
        "agent_description = \"A chatbot for assisting customers with different tasks.\""
      ],
      "metadata": {
        "id": "oUQoj3IEJFKI"
      },
      "execution_count": 15,
      "outputs": []
    },
    {
      "cell_type": "code",
      "source": [
        "agent_instruction = '''\n",
        "You are a friendly and helpful customer service associate working at an outdoor cloth e-commerse company called 'Backcountry'. Your name is Dennis.\n",
        "\n",
        "Your task is to help customers with inquries on products. Briefly introduce yourself and your task at the beginning of the conversation and ask for customer's information [Full Name, Gender, Age, Activities] to better assist them. After customer reply, use the tool provided to store the info to S3 bucket. Then ask 'Thanks for providing the info! How can I help you today?'. If customer ignore the message or choose to not share the info, do not ask again.\n",
        "\n",
        "When customer ask for recommendation, search the knowledge base try to give 2 recommendation with details in bullet points for customer to choose. If you cannot find the product, apologies to the customer and state that we don't currently sell this type of product.\n",
        "\n",
        "'''\n",
        "\n"
      ],
      "metadata": {
        "id": "x50C2YqzJvg9"
      },
      "execution_count": 5,
      "outputs": []
    },
    {
      "cell_type": "code",
      "source": [
        "# Create the agent\n",
        "response = bedrock_agent_client.create_agent(\n",
        "    agentName=agent_name,\n",
        "    description=agent_description,\n",
        "    instruction=agent_instruction,\n",
        "    foundationModel=\"anthropic.claude-3-7-sonnet-20250219-v1:0\",\n",
        "    idleSessionTTLInSeconds=300  # Set session timeout (5 minutes)\n",
        ")\n",
        "\n",
        "# Print the response\n",
        "print(\"Agent Created:\", response)"
      ],
      "metadata": {
        "colab": {
          "base_uri": "https://localhost:8080/"
        },
        "id": "I35IBpExKJEf",
        "outputId": "ebf501ee-55c7-48c6-cc19-8478fbc90e13"
      },
      "execution_count": 7,
      "outputs": [
        {
          "output_type": "stream",
          "name": "stdout",
          "text": [
            "Agent Created: {'ResponseMetadata': {'RequestId': '7e01c660-c38a-41cf-b368-dbd075b5b0dd', 'HTTPStatusCode': 202, 'HTTPHeaders': {'date': 'Thu, 03 Apr 2025 05:47:15 GMT', 'content-type': 'application/json', 'content-length': '1379', 'connection': 'keep-alive', 'x-amzn-requestid': '7e01c660-c38a-41cf-b368-dbd075b5b0dd', 'x-amz-apigw-id': 'IboTkG0qCYcEYhQ=', 'x-amzn-trace-id': 'Root=1-67ee20e3-1a0e253f4555a23c60e40d4e'}, 'RetryAttempts': 0}, 'agent': {'agentArn': 'arn:aws:bedrock:us-east-2:324037274971:agent/LPHJ94LMYT', 'agentCollaboration': 'DISABLED', 'agentId': 'LPHJ94LMYT', 'agentName': 'CustomerSupportAgent', 'agentStatus': 'CREATING', 'createdAt': datetime.datetime(2025, 4, 3, 5, 47, 15, 308502, tzinfo=tzlocal()), 'description': 'A chatbot for assisting customers with different tasks.', 'foundationModel': 'anthropic.claude-3-7-sonnet-20250219-v1:0', 'idleSessionTTLInSeconds': 300, 'instruction': \"\\nYou are a friendly and helpful customer service associate working at an outdoor cloth e-commerse company called 'Backcountry'. Your name is Dennis.\\n\\nYour task is to help customers with inquries on products. Briefly introduce yourself and your task at the beginning of the conversation and ask for customer's information [Full Name, Gender, Age, Activities] to better assist them. After customer reply, use the tool provided to store the info to S3 bucket. Then ask 'Thanks for providing the info! How can I help you today?'. If customer ignore the message or choose to not share the info, do not ask again.\\n\\nWhen customer ask for recommendation, search the knowledge base try to give 2 recommendation with details in bullet points for customer to choose. If you cannot find the product, apologies to the customer and state that we don't currently sell this type of product.\\n\\n\", 'orchestrationType': 'DEFAULT', 'updatedAt': datetime.datetime(2025, 4, 3, 5, 47, 15, 308502, tzinfo=tzlocal())}}\n"
          ]
        }
      ]
    },
    {
      "cell_type": "markdown",
      "source": [
        "#Testing Agent prepared using Console"
      ],
      "metadata": {
        "id": "UrHhqcu1WVHi"
      }
    },
    {
      "cell_type": "markdown",
      "source": [
        "## Simple Invoke"
      ],
      "metadata": {
        "id": "wgtpsLcsb638"
      }
    },
    {
      "cell_type": "code",
      "source": [
        "bedrock_run_agent_client = boto3.client(\n",
        "    \"bedrock-agent-runtime\",\n",
        "    region_name=\"us-east-2\",\n",
        "    aws_access_key_id=aws_access_key_id,\n",
        "    aws_secret_access_key=aws_secret_key,\n",
        "    )\n",
        "\n",
        "prompt = 'I do not want to provide personal info, directly recommend me a jacket that is warm and comfortable.'\n",
        "\n",
        "session_id = uuid.uuid4().hex\n",
        "\n",
        "response = bedrock_run_agent_client.invoke_agent(\n",
        "            agentId='7AKAZ4EHGY',\n",
        "            agentAliasId='GZQHDO1MSS',\n",
        "            sessionId=session_id,\n",
        "            inputText=prompt,\n",
        "        )\n",
        "\n",
        "completion = \"\"\n",
        "\n",
        "for event in response.get(\"completion\"):\n",
        "    chunk = event[\"chunk\"]\n",
        "    completion += chunk[\"bytes\"].decode()\n",
        "\n",
        "print(completion)"
      ],
      "metadata": {
        "colab": {
          "base_uri": "https://localhost:8080/"
        },
        "id": "hnv5z2UcarLT",
        "outputId": "44d20d49-0c7a-4ada-8f5b-a6e619ad614f"
      },
      "execution_count": 27,
      "outputs": [
        {
          "output_type": "stream",
          "name": "stdout",
          "text": [
            "Here are two warm and comfortable jacket recommendations:\n",
            "\n",
            "1. Nano Puff Vest by Patagonia\n",
            "- Light and packable vest for cold climates\n",
            "- Synthetic insulation that traps heat even when wet\n",
            "- Water-repellent finish\n",
            "- Price range: $132.30 - $189.00\n",
            "- Available in 8 colors\n",
            "- Great for alpine, skiing, and climbing activities\n",
            "\n",
            "2. Antora Jacket by The North Face\n",
            "- Waterproof and wind-resistant\n",
            "- Recycled polyester fabric with abrasion resistance\n",
            "- Three-piece hood to trap heat and fight off rain\n",
            "- Price range: $66.00 - $110.00\n",
            "- Available in 11 colors\n",
            "- Suitable for hiking, camping, and casual wear\n",
            "\n",
            "Would you like more details about either of these jackets?\n"
          ]
        }
      ]
    },
    {
      "cell_type": "markdown",
      "source": [
        "# Function to invoke\n",
        "## Memory not supported yet."
      ],
      "metadata": {
        "id": "sqNDOOobb-DQ"
      }
    },
    {
      "cell_type": "code",
      "source": [
        "def invoke_bedrock_agent_with_streaming(agentId, agentAliasId, prompt, region_name):\n",
        "    \"\"\"\n",
        "    Invoke an AWS Bedrock agent with streaming response.\n",
        "    \"\"\"\n",
        "    # Create a Bedrock Agent Runtime client\n",
        "    bedrock_agent_runtime = boto3.client(\n",
        "        service_name='bedrock-agent-runtime',\n",
        "        region_name=region_name,\n",
        "        aws_access_key_id=aws_access_key_id,\n",
        "        aws_secret_access_key=aws_secret_key\n",
        "    )\n",
        "\n",
        "    session_id = uuid.uuid4().hex\n",
        "\n",
        "    # Invoke the agent with streaming enabled\n",
        "    response = bedrock_agent_runtime.invoke_agent(\n",
        "        agentId=agentId,\n",
        "        agentAliasId=agentAliasId,\n",
        "        sessionId=session_id,\n",
        "        inputText=prompt,\n",
        "        enableTrace=False  # Skip trace for now\n",
        "    )\n",
        "\n",
        "    # Process the streaming response\n",
        "    full_response = \"\"\n",
        "    print(\"Agent response:\")\n",
        "    for event in response['completion']:\n",
        "        if 'chunk' in event:\n",
        "            chunk = event['chunk']\n",
        "            if 'bytes' in chunk:\n",
        "                # Decode and process text chunk\n",
        "                text_chunk = chunk['bytes'].decode('utf-8')\n",
        "                full_response += text_chunk\n",
        "                print(text_chunk, end='', flush=True)  # Stream to console\n",
        "\n",
        "    print(\"\\n\")  # Add newline after response\n",
        "    return full_response\n",
        "\n",
        "\n",
        "if __name__ == \"__main__\":\n",
        "\n",
        "    # Agent prepared on AWS console\n",
        "    agentId = \"7AKAZ4EHGY\"\n",
        "    agentAliasId = \"GZQHDO1MSS\"\n",
        "    region_name = \"us-east-2\"\n",
        "\n",
        "\n",
        "    # Simple interactive loop\n",
        "    print(\"Chat with Bedrock Agent (type 'exit' to quit)\")\n",
        "    while True:\n",
        "        user_input = input(\"\\nYou: \")\n",
        "\n",
        "        if user_input.lower() == 'exit':\n",
        "            break\n",
        "\n",
        "        # Invoke the agent and stream the response\n",
        "        invoke_bedrock_agent_with_streaming(\n",
        "            agentId=agentId,\n",
        "            agentAliasId=agentAliasId,\n",
        "            prompt=user_input,\n",
        "            region_name=region_name\n",
        "        )"
      ],
      "metadata": {
        "colab": {
          "base_uri": "https://localhost:8080/"
        },
        "id": "p9717rV_WXjn",
        "outputId": "7b93f829-9d73-4bb3-f3a4-c880298d467c"
      },
      "execution_count": 23,
      "outputs": [
        {
          "name": "stdout",
          "output_type": "stream",
          "text": [
            "Chat with Bedrock Agent (type 'exit' to quit)\n",
            "\n",
            "You: Hi, can you recommend a water proof jacket at price about 200 dollars?\n",
            "Agent response:\n",
            "I have two waterproof jacket recommendations for you:\n",
            "\n",
            "1. Patagonia Torrentshell 3L Jacket - Men's\n",
            "- Price: $179.00\n",
            "- Features:\n",
            "  * Rugged, lightweight shell with waterproof protection\n",
            "  * Breathable 3-layer membrane\n",
            "  * Underarm vents for heat management\n",
            "  * Adjustable hood\n",
            "  * Zips into its own pocket for easy storage\n",
            "  * Fully sealed seams\n",
            "  * Suitable for hiking and casual activities\n",
            "\n",
            "2. The North Face Antora Jacket - Men's\n",
            "- Price: $66.00 - $110.00\n",
            "- Features:\n",
            "  * Waterproof and wind-resistant\n",
            "  * Recycled polyester face fabric\n",
            "  * Three-piece adjustable hood\n",
            "  * Zippered hand pockets\n",
            "  * Fully sealed seams\n",
            "  * Great for hiking, camping, and casual wear\n",
            "\n",
            "Would you like more details about either of these jackets?\n",
            "\n",
            "\n",
            "You: Sure, tell me about the material\n",
            "Agent response:\n",
            "Hi there! I'm Danny, a customer service associate at Mountain Hardwear. Before we dive into materials, I'd love to get to know you a bit better. Could you please share your full name, gender, age, and preferred outdoor activities? This will help me provide the most personalized assistance.\n",
            "\n",
            "I'll wait for the customer to provide their personal information before searching for material details.\n",
            "\n",
            "\n",
            "You: exit\n"
          ]
        }
      ]
    }
  ]
}