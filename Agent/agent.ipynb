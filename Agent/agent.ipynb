{
  "nbformat": 4,
  "nbformat_minor": 0,
  "metadata": {
    "colab": {
      "provenance": []
    },
    "kernelspec": {
      "name": "python3",
      "display_name": "Python 3"
    },
    "language_info": {
      "name": "python"
    }
  },
  "cells": [
    {
      "cell_type": "code",
      "source": [
        "!pip install boto3 -q"
      ],
      "metadata": {
        "colab": {
          "base_uri": "https://localhost:8080/"
        },
        "id": "yZq5IX_BJAM_",
        "outputId": "09d392ad-5db5-4e09-bcd1-e6102a446180"
      },
      "execution_count": 2,
      "outputs": [
        {
          "output_type": "stream",
          "name": "stdout",
          "text": [
            "\u001b[2K   \u001b[90m━━━━━━━━━━━━━━━━━━━━━━━━━━━━━━━━━━━━━━━━\u001b[0m \u001b[32m139.6/139.6 kB\u001b[0m \u001b[31m4.5 MB/s\u001b[0m eta \u001b[36m0:00:00\u001b[0m\n",
            "\u001b[2K   \u001b[90m━━━━━━━━━━━━━━━━━━━━━━━━━━━━━━━━━━━━━━━━\u001b[0m \u001b[32m13.5/13.5 MB\u001b[0m \u001b[31m75.8 MB/s\u001b[0m eta \u001b[36m0:00:00\u001b[0m\n",
            "\u001b[2K   \u001b[90m━━━━━━━━━━━━━━━━━━━━━━━━━━━━━━━━━━━━━━━━\u001b[0m \u001b[32m84.4/84.4 kB\u001b[0m \u001b[31m8.4 MB/s\u001b[0m eta \u001b[36m0:00:00\u001b[0m\n",
            "\u001b[?25h"
          ]
        }
      ]
    },
    {
      "cell_type": "code",
      "execution_count": 3,
      "metadata": {
        "id": "yan_WVbSIksa"
      },
      "outputs": [],
      "source": [
        "import boto3\n",
        "import json\n",
        "from google.colab import userdata\n",
        "aws_access_key_id = userdata.get('aws_access_key_id')\n",
        "aws_secret_key = userdata.get('aws_secret_key')"
      ]
    },
    {
      "cell_type": "code",
      "source": [
        "# Initialize Bedrock client\n",
        "bedrock_agent_client = boto3.client(\n",
        "    \"bedrock-agent\",\n",
        "    region_name=\"us-east-2\",\n",
        "    aws_access_key_id=aws_access_key_id,\n",
        "    aws_secret_access_key=aws_secret_key,\n",
        "    )\n",
        "\n",
        "# Define the agent name and description\n",
        "agent_name = \"CustomerSupportAgent\"\n",
        "agent_description = \"A chatbot for assisting customers with different tasks.\""
      ],
      "metadata": {
        "id": "oUQoj3IEJFKI"
      },
      "execution_count": 4,
      "outputs": []
    },
    {
      "cell_type": "code",
      "source": [
        "agent_instruction = '''\n",
        "You are a friendly and helpful customer service associate working at an outdoor cloth e-commerse company called 'Backcountry'. Your name is Dennis.\n",
        "\n",
        "Your task is to help customers with inquries on products. Briefly introduce yourself and your task at the beginning of the conversation and ask for customer's information [Full Name, Gender, Age, Activities] to better assist them. After customer reply, use the tool provided to store the info to S3 bucket. Then ask 'Thanks for providing the info! How can I help you today?'. If customer ignore the message or choose to not share the info, do not ask again.\n",
        "\n",
        "When customer ask for recommendation, search the knowledge base try to give 2 recommendation with details in bullet points for customer to choose. If you cannot find the product, apologies to the customer and state that we don't currently sell this type of product.\n",
        "\n",
        "'''\n",
        "\n"
      ],
      "metadata": {
        "id": "x50C2YqzJvg9"
      },
      "execution_count": 5,
      "outputs": []
    },
    {
      "cell_type": "code",
      "source": [
        "# Create the agent\n",
        "response = bedrock_agent_client.create_agent(\n",
        "    agentName=agent_name,\n",
        "    description=agent_description,\n",
        "    instruction=agent_instruction,\n",
        "    foundationModel=\"anthropic.claude-3-7-sonnet-20250219-v1:0\",\n",
        "    idleSessionTTLInSeconds=300  # Set session timeout (5 minutes)\n",
        ")\n",
        "\n",
        "# Print the response\n",
        "print(\"Agent Created:\", response)\n",
        "\n"
      ],
      "metadata": {
        "colab": {
          "base_uri": "https://localhost:8080/"
        },
        "id": "I35IBpExKJEf",
        "outputId": "ebf501ee-55c7-48c6-cc19-8478fbc90e13"
      },
      "execution_count": 7,
      "outputs": [
        {
          "output_type": "stream",
          "name": "stdout",
          "text": [
            "Agent Created: {'ResponseMetadata': {'RequestId': '7e01c660-c38a-41cf-b368-dbd075b5b0dd', 'HTTPStatusCode': 202, 'HTTPHeaders': {'date': 'Thu, 03 Apr 2025 05:47:15 GMT', 'content-type': 'application/json', 'content-length': '1379', 'connection': 'keep-alive', 'x-amzn-requestid': '7e01c660-c38a-41cf-b368-dbd075b5b0dd', 'x-amz-apigw-id': 'IboTkG0qCYcEYhQ=', 'x-amzn-trace-id': 'Root=1-67ee20e3-1a0e253f4555a23c60e40d4e'}, 'RetryAttempts': 0}, 'agent': {'agentArn': 'arn:aws:bedrock:us-east-2:324037274971:agent/LPHJ94LMYT', 'agentCollaboration': 'DISABLED', 'agentId': 'LPHJ94LMYT', 'agentName': 'CustomerSupportAgent', 'agentStatus': 'CREATING', 'createdAt': datetime.datetime(2025, 4, 3, 5, 47, 15, 308502, tzinfo=tzlocal()), 'description': 'A chatbot for assisting customers with different tasks.', 'foundationModel': 'anthropic.claude-3-7-sonnet-20250219-v1:0', 'idleSessionTTLInSeconds': 300, 'instruction': \"\\nYou are a friendly and helpful customer service associate working at an outdoor cloth e-commerse company called 'Backcountry'. Your name is Dennis.\\n\\nYour task is to help customers with inquries on products. Briefly introduce yourself and your task at the beginning of the conversation and ask for customer's information [Full Name, Gender, Age, Activities] to better assist them. After customer reply, use the tool provided to store the info to S3 bucket. Then ask 'Thanks for providing the info! How can I help you today?'. If customer ignore the message or choose to not share the info, do not ask again.\\n\\nWhen customer ask for recommendation, search the knowledge base try to give 2 recommendation with details in bullet points for customer to choose. If you cannot find the product, apologies to the customer and state that we don't currently sell this type of product.\\n\\n\", 'orchestrationType': 'DEFAULT', 'updatedAt': datetime.datetime(2025, 4, 3, 5, 47, 15, 308502, tzinfo=tzlocal())}}\n"
          ]
        }
      ]
    }
  ]
}