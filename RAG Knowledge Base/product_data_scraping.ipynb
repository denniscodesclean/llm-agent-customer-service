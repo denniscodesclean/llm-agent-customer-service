{
  "nbformat": 4,
  "nbformat_minor": 0,
  "metadata": {
    "colab": {
      "provenance": []
    },
    "kernelspec": {
      "name": "python3",
      "display_name": "Python 3"
    },
    "language_info": {
      "name": "python"
    }
  },
  "cells": [
    {
      "cell_type": "code",
      "execution_count": 1,
      "metadata": {
        "id": "VJvzegJmmWsS"
      },
      "outputs": [],
      "source": [
        "!pip install beautifulsoup4 requests -q"
      ]
    },
    {
      "cell_type": "code",
      "source": [
        "import requests\n",
        "from bs4 import BeautifulSoup"
      ],
      "metadata": {
        "id": "Ul4xrxKxmkmf"
      },
      "execution_count": 2,
      "outputs": []
    },
    {
      "cell_type": "code",
      "source": [
        "\n",
        "# URL of the Wikipedia page\n",
        "url = 'https://www.backcountry.com/cat/mens-clothing'\n",
        "\n",
        "response = requests.get(url)\n",
        "response.raise_for_status()\n",
        "\n",
        "'''\n",
        "# Parse HTML\n",
        "soup = BeautifulSoup(response.text, 'html.parser')\n",
        "\n",
        "# Find all product containers\n",
        "product_containers = soup.find_all('div', {'data-id': 'PLI'})\n",
        "'''\n",
        "\n",
        "output = []\n",
        "# Extract product names\n",
        "for container in product_containers:\n",
        "    brand_name = container.find('p',{'data-id':'brandName'})\n",
        "    title_tag = container.find('h2', {'data-id':'title'})\n",
        "    price_range = container.find('span', {'data-id':'price'})\n",
        "    color_counts = container.find('p', {'data-id':'colorsCount'})\n",
        "    product_link = container.find('a', class_='chakra-linkbox__overlay css-1uw88nq')\n",
        "    output.append(\n",
        "          {\n",
        "            'Item_Name': title_tag.get_text(strip=True),\n",
        "            'Brand_Name': brand_name.get_text(strip=True),\n",
        "            'price_range': price_range.get_text(strip=True),\n",
        "            'color_counts': color_counts.get_text(strip=True),\n",
        "            'product_link': product_link['href'] if product_link else 'N/A',\n",
        "          }\n",
        "        )\n",
        "print(output)"
      ],
      "metadata": {
        "colab": {
          "base_uri": "https://localhost:8080/"
        },
        "id": "NJqsbeSUd9Pn",
        "outputId": "0dd2ca9b-17f0-479c-c102-99a5fe4b4d71"
      },
      "execution_count": 39,
      "outputs": [
        {
          "output_type": "stream",
          "name": "stdout",
          "text": [
            "[{'Item_Name': \"Lightweight Synchilla Snap-T Fleece Pullover - Men's\", 'Brand_Name': 'Patagonia', 'price_range': '$69.50 -$139.00', 'color_counts': '8 colors', 'product_link': '/patagonia-lightweight-synchilla-snap-t-fleece-pullover-mens'}, {'Item_Name': \"Concurve 5in 2in1 Short - Men's\", 'Brand_Name': 'GOREWEAR', 'price_range': '$70.00', 'color_counts': '2 colors', 'product_link': '/gorewear-concurve-5in-2in1-short-mens'}, {'Item_Name': \"Nano Puff Vest - Men's\", 'Brand_Name': 'Patagonia', 'price_range': '$132.30 -$189.00', 'color_counts': '9 colors', 'product_link': '/patagonia-nano-puff-vest-mens'}, {'Item_Name': \"Torrentshell 3L Jacket - Men's\", 'Brand_Name': 'Patagonia', 'price_range': '$179.00', 'color_counts': '9 colors', 'product_link': '/patagonia-torrentshell-3l-jacket-mens'}, {'Item_Name': \"Antora Jacket - Men's\", 'Brand_Name': 'The North Face', 'price_range': '$66.00 -$110.00', 'color_counts': '10 colors', 'product_link': '/the-north-face-antora-jacket-mens'}, {'Item_Name': \"Better Sweater Fleece Jacket - Men's\", 'Brand_Name': 'Patagonia', 'price_range': '$159.00', 'color_counts': '8 colors', 'product_link': '/patagonia-better-sweater-fleece-jacket-mens'}, {'Item_Name': \"Canyonlands 1/2-Zip Pullover Fleece Jacket - Men's\", 'Brand_Name': 'The North Face', 'price_range': '$48.00 -$80.00', 'color_counts': '7 colors', 'product_link': '/the-north-face-canyonlands-1-2-zip-pullover-fleece-jacket-mens'}, {'Item_Name': \"Stretch Zion Pant - Men's\", 'Brand_Name': 'prAna', 'price_range': '$56.97 -$94.95', 'color_counts': '8 colors', 'product_link': '/prana-stretch-zion-pant-mens'}, {'Item_Name': \"P-6 Logo Long-Sleeve Responsibili-T-Shirt - Men's\", 'Brand_Name': 'Patagonia', 'price_range': '$33.00 -$55.00', 'color_counts': '6 colors', 'product_link': '/patagonia-p-6-logo-long-sleeve-responsibili-t-shirt-mens'}, {'Item_Name': \"Echo Hooded Long-Sleeve Shirt - Men's\", 'Brand_Name': 'Outdoor Research', 'price_range': '$37.92 -$74.95', 'color_counts': '12 colors', 'product_link': '/outdoor-research-echo-hooded-long-sleeve-shirt-mens'}, {'Item_Name': \"Evolution Vintage Hoodie - Men's\", 'Brand_Name': 'The North Face', 'price_range': '$33.00 -$60.00', 'color_counts': '8 colors', 'product_link': '/the-north-face-evolution-vintage-hoodie-mens'}, {'Item_Name': \"P-6 Logo Short-Sleeve Responsibili-T-Shirt - Men's\", 'Brand_Name': 'Patagonia', 'price_range': '$45.00', 'color_counts': '6 colors', 'product_link': '/patagonia-p-6-logo-short-sleeve-responsibili-t-shirt-mens'}, {'Item_Name': \"Capilene Cool Daily Short-Sleeve Shirt - Men's\", 'Brand_Name': 'Patagonia', 'price_range': '$45.00', 'color_counts': '7 colors', 'product_link': '/patagonia-capilene-cool-daily-short-sleeve-shirt-mens'}, {'Item_Name': \"Highliner PrimaLoft Air-Perm Fleece Hoodie - Men's\", 'Brand_Name': 'Backcountry', 'price_range': '$99.00', 'color_counts': '3 colors', 'product_link': '/backcountry-highliner-primaloft-air-perm-fleece-hoodie-mens'}, {'Item_Name': \"Keb Trouser - Men's\", 'Brand_Name': 'Fjallraven', 'price_range': '$143.97 -$239.95', 'color_counts': '9 colors', 'product_link': '/fjallraven-keb-trouser-mens'}, {'Item_Name': \"Down Sweater Vest - Men's\", 'Brand_Name': 'Patagonia', 'price_range': '$114.50 -$229.00', 'color_counts': '6 colors', 'product_link': '/patagonia-down-sweater-vest-mens'}, {'Item_Name': \"Astroman Short-Sleeve Sun Shirt - Men's\", 'Brand_Name': 'Outdoor Research', 'price_range': '$44.53 -$98.95', 'color_counts': '14 colors', 'product_link': '/outdoor-research-astroman-short-sleeve-sun-shirt-mens'}, {'Item_Name': \"Capilene Cool Daily Hooded Shirt - Men's\", 'Brand_Name': 'Patagonia', 'price_range': '$65.00', 'color_counts': '4 colors', 'product_link': '/patagonia-capilene-cool-daily-hooded-shirt-mens'}, {'Item_Name': \"R1 Air Zip-Neck Top - Men's\", 'Brand_Name': 'Patagonia', 'price_range': '$129.00', 'color_counts': '5 colors', 'product_link': '/patagonia-r1-air-zip-neck-top-mens'}, {'Item_Name': \"Wasatch Ripstop Pull-On Short - Men's\", 'Brand_Name': 'Backcountry', 'price_range': '$59.00', 'color_counts': '2 colors', 'product_link': '/backcountry-wasatch-ripstop-pull-on-short-mens'}, {'Item_Name': \"Board Shirt - Men's\", 'Brand_Name': 'Pendleton', 'price_range': '$92.95 -$179.00', 'color_counts': '14 colors', 'product_link': '/pendleton-board-shirt-long-sleeve-mens'}, {'Item_Name': \"R1 TechFace Fleece Jacket - Men's\", 'Brand_Name': 'Patagonia', 'price_range': '$113.40 -$189.00', 'color_counts': '6 colors', 'product_link': '/patagonia-r1-techface-fleece-jacket-mens'}, {'Item_Name': \"73 Skyline Regenerative Organic Pilot Cotton T-Shirt - Men's\", 'Brand_Name': 'Patagonia', 'price_range': '$27.00 -$45.00', 'color_counts': '6 colors', 'product_link': '/patagonia-73-skyline-regenerative-organic-pilot-cotton-t-shirt-mens'}, {'Item_Name': \"Micro D Fleece Pullover - Men's\", 'Brand_Name': 'Patagonia', 'price_range': '$69.00', 'color_counts': '4 colors', 'product_link': '/patagonia-micro-d-fleece-pullover-mens'}, {'Item_Name': \"Houdini Full-Zip Jacket - Men's\", 'Brand_Name': 'Patagonia', 'price_range': '$109.00', 'color_counts': '7 colors', 'product_link': '/patagonia-houdini-full-zip-jacket-mens'}, {'Item_Name': \"Organic Cotton MW Long-Sleeve Fjord Flannel Shirt - Men's\", 'Brand_Name': 'Patagonia', 'price_range': '$59.50 -$119.00', 'color_counts': '6 colors', 'product_link': '/patagonia-organic-cotton-mw-long-sleeve-fjord-flannel-shirt-mens'}, {'Item_Name': \"Micro D Fleece Jacket - Men's\", 'Brand_Name': 'Patagonia', 'price_range': '$99.00', 'color_counts': '4 colors', 'product_link': '/patagonia-micro-d-fleece-jacket-mens'}, {'Item_Name': \"Carto Triclimate Jacket - Men's\", 'Brand_Name': 'The North Face', 'price_range': '$150.00 -$300.00', 'color_counts': '4 colors', 'product_link': '/the-north-face-carto-triclimate-jacket-mens'}, {'Item_Name': \"Better Sweater Fleece Vest - Men's\", 'Brand_Name': 'Patagonia', 'price_range': '$119.00', 'color_counts': '6 colors', 'product_link': '/patagonia-better-sweater-vest-mens'}, {'Item_Name': \"Retro Pile Vest - Men's\", 'Brand_Name': 'Patagonia', 'price_range': '$129.00', 'color_counts': '3 colors', 'product_link': '/patagonia-retro-pile-vest-mens'}, {'Item_Name': \"Base T-Shirt - Men's\", 'Brand_Name': 'Katin', 'price_range': '$34.95', 'color_counts': '5 colors', 'product_link': '/katin-base-t-shirt-mens'}, {'Item_Name': \"R1 TechFace Hooded Fleece Jacket - Men's\", 'Brand_Name': 'Patagonia', 'price_range': '$153.30 -$219.00', 'color_counts': '6 colors', 'product_link': '/patagonia-r1-techface-hooded-fleece-jacket-mens'}, {'Item_Name': \"Recon Stretch Ski Shell - Men's\", 'Brand_Name': 'Black Diamond', 'price_range': '$270.00 -$450.00', 'color_counts': '6 colors', 'product_link': '/black-diamond-recon-stretch-ski-shell-jacket-mens'}, {'Item_Name': \"Antora Triclimate Jacket - Men's\", 'Brand_Name': 'The North Face', 'price_range': '$130.00 -$260.00', 'color_counts': '5 colors', 'product_link': '/the-north-face-antora-triclimate-jacket-mens'}, {'Item_Name': \"Half Dome Pullover Hoodie - Men's\", 'Brand_Name': 'The North Face', 'price_range': '$33.00 -$60.00', 'color_counts': '10 colors', 'product_link': '/the-north-face-half-dome-pullover-hoodie-mens'}, {'Item_Name': \"Lightweight All-Wear Hemp 8 in Short - Men's\", 'Brand_Name': 'Patagonia', 'price_range': '$45.00 -$75.00', 'color_counts': '5 colors', 'product_link': '/patagonia-lightweight-all-wear-hemp-8-in-short-mens'}, {'Item_Name': \"Capilene Cool Daily Long-Sleeve Shirt - Men's\", 'Brand_Name': 'Patagonia', 'price_range': '$55.00', 'color_counts': '7 colors', 'product_link': '/patagonia-capilene-cool-daily-long-sleeve-shirt-mens'}, {'Item_Name': \"Venture Daily Pant - Men's\", 'Brand_Name': 'Backcountry', 'price_range': '$79.00', 'color_counts': '5 colors', 'product_link': '/backcountry-venture-daily-pant-mens'}, {'Item_Name': 'Run Targeted Cushion Low Ankle Sock', 'Brand_Name': 'Smartwool', 'price_range': '$15.20 -$19.00', 'color_counts': '6 colors', 'product_link': '/smartwool-run-targeted-cushion-low-ankle-sock'}, {'Item_Name': \"Tahoe Sun Hoodie - Men's\", 'Brand_Name': 'Backcountry', 'price_range': '$69.00', 'color_counts': '6 colors', 'product_link': '/backcountry-tahoe-2-sun-hoodie-mens'}, {'Item_Name': \"Helium Rain Pant - Men's\", 'Brand_Name': 'Outdoor Research', 'price_range': '$71.47 -$129.95', 'color_counts': '2 colors', 'product_link': '/outdoor-research-helium-rain-pant-mens'}, {'Item_Name': \"PreCip Eco Jacket - Men's\", 'Brand_Name': 'Marmot', 'price_range': '$59.98 -$119.95', 'color_counts': '13 colors', 'product_link': '/marmot-precip-eco-jacket-mens'}]\n"
          ]
        }
      ]
    },
    {
      "cell_type": "code",
      "source": [
        "output[:10]"
      ],
      "metadata": {
        "colab": {
          "base_uri": "https://localhost:8080/"
        },
        "id": "1IT5HGrxl9Iw",
        "outputId": "55f38bef-c7e9-4741-8a20-a0c82343e9d1"
      },
      "execution_count": 40,
      "outputs": [
        {
          "output_type": "execute_result",
          "data": {
            "text/plain": [
              "[{'Item_Name': \"Lightweight Synchilla Snap-T Fleece Pullover - Men's\",\n",
              "  'Brand_Name': 'Patagonia',\n",
              "  'price_range': '$69.50 -$139.00',\n",
              "  'color_counts': '8 colors',\n",
              "  'product_link': '/patagonia-lightweight-synchilla-snap-t-fleece-pullover-mens'},\n",
              " {'Item_Name': \"Concurve 5in 2in1 Short - Men's\",\n",
              "  'Brand_Name': 'GOREWEAR',\n",
              "  'price_range': '$70.00',\n",
              "  'color_counts': '2 colors',\n",
              "  'product_link': '/gorewear-concurve-5in-2in1-short-mens'},\n",
              " {'Item_Name': \"Nano Puff Vest - Men's\",\n",
              "  'Brand_Name': 'Patagonia',\n",
              "  'price_range': '$132.30 -$189.00',\n",
              "  'color_counts': '9 colors',\n",
              "  'product_link': '/patagonia-nano-puff-vest-mens'},\n",
              " {'Item_Name': \"Torrentshell 3L Jacket - Men's\",\n",
              "  'Brand_Name': 'Patagonia',\n",
              "  'price_range': '$179.00',\n",
              "  'color_counts': '9 colors',\n",
              "  'product_link': '/patagonia-torrentshell-3l-jacket-mens'},\n",
              " {'Item_Name': \"Antora Jacket - Men's\",\n",
              "  'Brand_Name': 'The North Face',\n",
              "  'price_range': '$66.00 -$110.00',\n",
              "  'color_counts': '10 colors',\n",
              "  'product_link': '/the-north-face-antora-jacket-mens'},\n",
              " {'Item_Name': \"Better Sweater Fleece Jacket - Men's\",\n",
              "  'Brand_Name': 'Patagonia',\n",
              "  'price_range': '$159.00',\n",
              "  'color_counts': '8 colors',\n",
              "  'product_link': '/patagonia-better-sweater-fleece-jacket-mens'},\n",
              " {'Item_Name': \"Canyonlands 1/2-Zip Pullover Fleece Jacket - Men's\",\n",
              "  'Brand_Name': 'The North Face',\n",
              "  'price_range': '$48.00 -$80.00',\n",
              "  'color_counts': '7 colors',\n",
              "  'product_link': '/the-north-face-canyonlands-1-2-zip-pullover-fleece-jacket-mens'},\n",
              " {'Item_Name': \"Stretch Zion Pant - Men's\",\n",
              "  'Brand_Name': 'prAna',\n",
              "  'price_range': '$56.97 -$94.95',\n",
              "  'color_counts': '8 colors',\n",
              "  'product_link': '/prana-stretch-zion-pant-mens'},\n",
              " {'Item_Name': \"P-6 Logo Long-Sleeve Responsibili-T-Shirt - Men's\",\n",
              "  'Brand_Name': 'Patagonia',\n",
              "  'price_range': '$33.00 -$55.00',\n",
              "  'color_counts': '6 colors',\n",
              "  'product_link': '/patagonia-p-6-logo-long-sleeve-responsibili-t-shirt-mens'},\n",
              " {'Item_Name': \"Echo Hooded Long-Sleeve Shirt - Men's\",\n",
              "  'Brand_Name': 'Outdoor Research',\n",
              "  'price_range': '$37.92 -$74.95',\n",
              "  'color_counts': '12 colors',\n",
              "  'product_link': '/outdoor-research-echo-hooded-long-sleeve-shirt-mens'}]"
            ]
          },
          "metadata": {},
          "execution_count": 40
        }
      ]
    }
  ]
}